{
 "cells": [
  {
   "cell_type": "code",
   "execution_count": 1,
   "metadata": {},
   "outputs": [],
   "source": [
    "import pandas as pd\n",
    "from datetime import datetime\n",
    "import matplotlib"
   ]
  },
  {
   "cell_type": "code",
   "execution_count": 2,
   "metadata": {},
   "outputs": [],
   "source": [
    "dataframe = pd.read_csv('tables/time_sheet.csv')"
   ]
  },
  {
   "cell_type": "code",
   "execution_count": 3,
   "metadata": {},
   "outputs": [
    {
     "data": {
      "text/html": [
       "<div>\n",
       "<style scoped>\n",
       "    .dataframe tbody tr th:only-of-type {\n",
       "        vertical-align: middle;\n",
       "    }\n",
       "\n",
       "    .dataframe tbody tr th {\n",
       "        vertical-align: top;\n",
       "    }\n",
       "\n",
       "    .dataframe thead th {\n",
       "        text-align: right;\n",
       "    }\n",
       "</style>\n",
       "<table border=\"1\" class=\"dataframe\">\n",
       "  <thead>\n",
       "    <tr style=\"text-align: right;\">\n",
       "      <th></th>\n",
       "      <th>date</th>\n",
       "      <th>wakeup time</th>\n",
       "      <th>sleep</th>\n",
       "      <th>meditation</th>\n",
       "      <th>exercise</th>\n",
       "      <th>daily routines</th>\n",
       "      <th>travel to work</th>\n",
       "      <th>work</th>\n",
       "      <th>learning</th>\n",
       "      <th>movies</th>\n",
       "      <th>series</th>\n",
       "      <th>games</th>\n",
       "      <th>outing</th>\n",
       "      <th>others</th>\n",
       "      <th>time to bed</th>\n",
       "    </tr>\n",
       "  </thead>\n",
       "  <tbody>\n",
       "    <tr>\n",
       "      <td>0</td>\n",
       "      <td>2020-04-01</td>\n",
       "      <td>9:00A.M.</td>\n",
       "      <td>8</td>\n",
       "      <td>NaN</td>\n",
       "      <td>NaN</td>\n",
       "      <td>1</td>\n",
       "      <td>NaN</td>\n",
       "      <td>9</td>\n",
       "      <td>5</td>\n",
       "      <td>NaN</td>\n",
       "      <td>NaN</td>\n",
       "      <td>NaN</td>\n",
       "      <td>NaN</td>\n",
       "      <td>1.0</td>\n",
       "      <td>12:00A.M.</td>\n",
       "    </tr>\n",
       "    <tr>\n",
       "      <td>1</td>\n",
       "      <td>2020-04-02</td>\n",
       "      <td>9:00A.M.</td>\n",
       "      <td>8</td>\n",
       "      <td>NaN</td>\n",
       "      <td>NaN</td>\n",
       "      <td>1</td>\n",
       "      <td>NaN</td>\n",
       "      <td>9</td>\n",
       "      <td>6</td>\n",
       "      <td>NaN</td>\n",
       "      <td>NaN</td>\n",
       "      <td>NaN</td>\n",
       "      <td>NaN</td>\n",
       "      <td>NaN</td>\n",
       "      <td>12:00A.M.</td>\n",
       "    </tr>\n",
       "  </tbody>\n",
       "</table>\n",
       "</div>"
      ],
      "text/plain": [
       "         date wakeup time  sleep  meditation  exercise  daily routines  \\\n",
       "0  2020-04-01    9:00A.M.      8         NaN       NaN               1   \n",
       "1  2020-04-02    9:00A.M.      8         NaN       NaN               1   \n",
       "\n",
       "   travel to work  work  learning  movies  series  games  outing  others  \\\n",
       "0             NaN     9         5     NaN     NaN    NaN     NaN     1.0   \n",
       "1             NaN     9         6     NaN     NaN    NaN     NaN     NaN   \n",
       "\n",
       "  time to bed  \n",
       "0   12:00A.M.  \n",
       "1   12:00A.M.  "
      ]
     },
     "execution_count": 3,
     "metadata": {},
     "output_type": "execute_result"
    }
   ],
   "source": [
    "dataframe.head()"
   ]
  },
  {
   "cell_type": "code",
   "execution_count": 9,
   "metadata": {},
   "outputs": [],
   "source": [
    "def getTimeDifferenceInhours(bedTime,wakeUpTime):\n",
    "    if 'P.M.' in bedTime:\n",
    "        mrngHour,mrngMinute = wakeUpTime.replace('A.M.','').split(':')\n",
    "        nightHour,nightMinute = bedTime.replace('P.M.','').split(':')\n",
    "        minutes = (60 - int(nightMinute)) + int(mrngMinute)\n",
    "        if minutes >= 60:\n",
    "            minutes = minutes - 60\n",
    "            hours =  int(mrngHour) + (12 - int(nightHour))\n",
    "        else:\n",
    "            hours = int(mrngHour) + (12 - int(nightHour)) - 1\n",
    "\n",
    "    elif 'A.M.' in bedTime:\n",
    "        mrngHour,mrngMinute = wakeUpTime.replace('A.M.','').split(':')\n",
    "        nightHour,nightMinute = bedTime.replace('A.M.','').split(':')\n",
    "        minutes = (60 - int(nightMinute)) + int(mrngMinute)\n",
    "        if minutes >= 60:\n",
    "            minutes = minutes - 60\n",
    "            hours = int(mrngHour) - int(nightHour)\n",
    "            if int(nightHour) == 12:\n",
    "                 hours =  int(mrngHour) + (12 - int(nightHour))\n",
    "        else:\n",
    "            hours = int(mrngHour) - int(nightHour) + 1\n",
    "            if int(nightHour) == 12:\n",
    "                 hours =  int(mrngHour) + (12 - int(nightHour)) - 1\n",
    "#         if int(nightHour) == 12:\n",
    "#             hours = hours * -1\n",
    "    if minutes != 60:\n",
    "        minutes = minutes / 60\n",
    "    return round(hours+minutes,2)\n",
    "#     return \"{}.{}\".format(hours,minutes)"
   ]
  },
  {
   "cell_type": "code",
   "execution_count": 10,
   "metadata": {},
   "outputs": [
    {
     "data": {
      "text/plain": [
       "'6.55'"
      ]
     },
     "execution_count": 10,
     "metadata": {},
     "output_type": "execute_result"
    }
   ],
   "source": [
    "bedTime = '12:15A.M.'\n",
    "wakeUpTime = '7:10A.M.'\n",
    "getTimeDifferenceInhours(bedTime, wakeUpTime)"
   ]
  },
  {
   "cell_type": "code",
   "execution_count": null,
   "metadata": {},
   "outputs": [],
   "source": []
  }
 ],
 "metadata": {
  "kernelspec": {
   "display_name": "Python 3",
   "language": "python",
   "name": "python3"
  },
  "language_info": {
   "codemirror_mode": {
    "name": "ipython",
    "version": 3
   },
   "file_extension": ".py",
   "mimetype": "text/x-python",
   "name": "python",
   "nbconvert_exporter": "python",
   "pygments_lexer": "ipython3",
   "version": "3.7.4"
  }
 },
 "nbformat": 4,
 "nbformat_minor": 2
}
