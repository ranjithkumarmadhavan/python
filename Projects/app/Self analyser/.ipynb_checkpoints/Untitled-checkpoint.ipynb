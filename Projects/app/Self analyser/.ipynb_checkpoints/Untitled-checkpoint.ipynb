{
 "cells": [
  {
   "cell_type": "code",
   "execution_count": null,
   "metadata": {},
   "outputs": [],
   "source": []
  },
  {
   "cell_type": "code",
   "execution_count": 3,
   "metadata": {},
   "outputs": [],
   "source": [
    "def getTimeDifferenceInhours(bedTime, wakeUpTime):\n",
    "    if 'P.M.' in bedTime:\n",
    "        mrngHour,mrngMinute = wakeUpTime.replace('A.M.','').split(':')\n",
    "        nightHour,nightMinute = bedTime.replace('P.M.','').split(':')\n",
    "        minutes = (60 - int(nightMinute)) + int(mrngMinute)\n",
    "        if minutes >= 60:\n",
    "            minutes = minutes - 60\n",
    "            hours =  int(mrngHour) + (12 - int(nightHour))\n",
    "        else:\n",
    "            hours = int(mrngHour) + (12 - int(nightHour)) - 1\n",
    "\n",
    "    elif 'A.M.' in bedTime:\n",
    "        mrngHour,mrngMinute = wakeUpTime.replace('A.M.','').split(':')\n",
    "        nightHour,nightMinute = bedTime.replace('A.M.','').split(':')\n",
    "        minutes = (60 - int(nightMinute)) + int(mrngMinute)\n",
    "        if minutes >= 60:\n",
    "            minutes = minutes - 60\n",
    "            hours = int(mrngHour) - int(nightHour)\n",
    "            if int(nightHour) == 12:\n",
    "                 hours =  int(mrngHour) + (12 - int(nightHour))\n",
    "        else:\n",
    "            hours = int(mrngHour) - int(nightHour) - 1\n",
    "            if int(nightHour) == 12:\n",
    "                 hours =  int(mrngHour) + (12 - int(nightHour)) - 1\n",
    "    if minutes != 60:\n",
    "        minutes = minutes / 60\n",
    "    return round(hours+minutes,2)"
   ]
  },
  {
   "cell_type": "code",
   "execution_count": 4,
   "metadata": {},
   "outputs": [
    {
     "data": {
      "text/plain": [
       "7.75"
      ]
     },
     "execution_count": 4,
     "metadata": {},
     "output_type": "execute_result"
    }
   ],
   "source": [
    "getTimeDifferenceInhours(bedTime=\"1:45A.M.\",wakeUpTime=\"9:15A.M.\")"
   ]
  },
  {
   "cell_type": "code",
   "execution_count": null,
   "metadata": {},
   "outputs": [],
   "source": []
  },
  {
   "cell_type": "code",
   "execution_count": 12,
   "metadata": {},
   "outputs": [],
   "source": [
    "from datetime import datetime\n",
    "s1 = '09:00:00'\n",
    "s2 = '01:15:49' # for example\n",
    "FMT = '%H:%M:%S'\n",
    "tdelta = datetime.strptime(s2, FMT) - datetime.strptime(s1, FMT)"
   ]
  },
  {
   "cell_type": "code",
   "execution_count": 16,
   "metadata": {},
   "outputs": [
    {
     "data": {
      "text/plain": [
       "16.26361111111111"
      ]
     },
     "execution_count": 16,
     "metadata": {},
     "output_type": "execute_result"
    }
   ],
   "source": [
    "tdelta.seconds/3600"
   ]
  },
  {
   "cell_type": "code",
   "execution_count": null,
   "metadata": {},
   "outputs": [],
   "source": []
  }
 ],
 "metadata": {
  "kernelspec": {
   "display_name": "Python 3",
   "language": "python",
   "name": "python3"
  },
  "language_info": {
   "codemirror_mode": {
    "name": "ipython",
    "version": 3
   },
   "file_extension": ".py",
   "mimetype": "text/x-python",
   "name": "python",
   "nbconvert_exporter": "python",
   "pygments_lexer": "ipython3",
   "version": "3.7.4"
  }
 },
 "nbformat": 4,
 "nbformat_minor": 2
}
